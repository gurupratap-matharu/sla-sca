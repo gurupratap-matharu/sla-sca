{
 "cells": [
  {
   "cell_type": "markdown",
   "id": "804b92b3",
   "metadata": {},
   "source": [
    "### Main Patch SLA Extraction"
   ]
  },
  {
   "cell_type": "markdown",
   "id": "2449c1d5",
   "metadata": {},
   "source": [
    "### Configuration"
   ]
  },
  {
   "cell_type": "code",
   "execution_count": 1,
   "id": "276ad903",
   "metadata": {},
   "outputs": [
    {
     "data": {
      "text/html": [
       "<style>.container { width:100% !important; }</style>"
      ],
      "text/plain": [
       "<IPython.core.display.HTML object>"
      ]
     },
     "metadata": {},
     "output_type": "display_data"
    }
   ],
   "source": [
    "from IPython.display import display, HTML\n",
    "display(HTML(\"<style>.container { width:100% !important; }</style>\"))"
   ]
  },
  {
   "cell_type": "markdown",
   "id": "2afd684c",
   "metadata": {},
   "source": [
    "### Basic Imports"
   ]
  },
  {
   "cell_type": "code",
   "execution_count": 15,
   "id": "1c871b5f",
   "metadata": {},
   "outputs": [],
   "source": [
    "import ee\n",
    "import geemap\n",
    "import logging\n",
    "\n",
    "ee.Initialize()\n",
    "\n",
    "logging.basicConfig(level=logging.INFO)"
   ]
  },
  {
   "cell_type": "code",
   "execution_count": 3,
   "id": "48bc34b8",
   "metadata": {},
   "outputs": [],
   "source": [
    "import sys\n",
    "sys.path.append('../')"
   ]
  },
  {
   "cell_type": "markdown",
   "id": "ede4ca5d",
   "metadata": {},
   "source": [
    "### Local Imports"
   ]
  },
  {
   "cell_type": "code",
   "execution_count": 5,
   "id": "65a6cd64",
   "metadata": {},
   "outputs": [],
   "source": [
    "from sla.prep import PreProcessor\n",
    "from sla.cloud_shadow_mask import add_cloud_shadow\n",
    "from sla.classifier import decision_tree\n",
    "from sla.hill_shadow import add_hill_shadow\n",
    "from sla.main_patches import extract_sla_patch"
   ]
  },
  {
   "cell_type": "markdown",
   "id": "2f5ea7ba",
   "metadata": {},
   "source": [
    "- Here we run our pipeline and generate the image collection till the classifier step.\n",
    "- We need to pass a single image to our `extract_sla_patch` to see intermitted results.\n",
    "\n",
    "- If we pass the entire image collections using `map` then Earth Engine will throw error!"
   ]
  },
  {
   "cell_type": "code",
   "execution_count": 6,
   "id": "319996bc",
   "metadata": {},
   "outputs": [
    {
     "name": "stdout",
     "output_type": "stream",
     "text": [
      "processing cloud shadow mask...\n",
      "processing hill shadow...\n",
      "classifying with decision tree...\n"
     ]
    }
   ],
   "source": [
    "ing_id = \"G718255O411666S\"\n",
    "start_year = ee.Number(2022)\n",
    "end_year = ee.Number(2022)\n",
    "doy_start = ee.Number(50)\n",
    "doy_end = ee.Number(200)\n",
    "cloudiness = ee.Number(50)\n",
    "coverage = 50\n",
    "hsboolean = 0\n",
    "hs_start = ee.Number(50)\n",
    "hs_end = ee.Number(200)\n",
    "dem = \"SRTM\"\n",
    "\n",
    "preprocessor = PreProcessor(\n",
    "    ing_id=ing_id,\n",
    "    start_year=start_year,\n",
    "    end_year=end_year,\n",
    "    doy_start=doy_start,\n",
    "    doy_end=doy_end,\n",
    "    cloudiness=cloudiness,\n",
    "    coverage=coverage,\n",
    "    hsboolean=hsboolean,\n",
    "    dem=dem,\n",
    ")\n",
    "\n",
    "preprocessed = preprocessor.execute()\n",
    "\n",
    "print(\"processing cloud shadow mask...\")\n",
    "cloud_shadow_collection = preprocessed.map(add_cloud_shadow)\n",
    "\n",
    "print(\"processing hill shadow...\")\n",
    "hill_shadow_collection = add_hill_shadow(\n",
    "        image_collection=cloud_shadow_collection, hs_start=hs_start, hs_end=hs_end\n",
    "    )\n",
    "\n",
    "print(\"classifying with decision tree...\")\n",
    "classified_collection = hill_shadow_collection.map(decision_tree)"
   ]
  },
  {
   "cell_type": "markdown",
   "id": "ceb6f3f6",
   "metadata": {},
   "source": [
    "Note:\n",
    "\n",
    "- `classified_collection` is the image collection after the decision tree classifier step\n",
    "- to debug main patch we take the first image and pass it to `extract_sla_patch`"
   ]
  },
  {
   "cell_type": "code",
   "execution_count": 9,
   "id": "2ea7d9db",
   "metadata": {},
   "outputs": [
    {
     "data": {
      "text/plain": [
       "26"
      ]
     },
     "execution_count": 9,
     "metadata": {},
     "output_type": "execute_result"
    }
   ],
   "source": [
    "classified_collection.size().getInfo()"
   ]
  },
  {
   "cell_type": "code",
   "execution_count": 10,
   "id": "b65921d2-d537-4ab1-a496-482446518213",
   "metadata": {},
   "outputs": [],
   "source": [
    "image = classified_collection.first()"
   ]
  },
  {
   "cell_type": "markdown",
   "id": "3cc9ae40",
   "metadata": {},
   "source": [
    "Our first image looks like this\n",
    "\n",
    "You can run this notebook for any intermitted image you want. There are 26 in total"
   ]
  },
  {
   "cell_type": "code",
   "execution_count": 12,
   "id": "84b91301",
   "metadata": {},
   "outputs": [
    {
     "data": {
      "text/plain": [
       "{'type': 'Image',\n",
       " 'bands': [{'id': 'classification',\n",
       "   'data_type': {'type': 'PixelType', 'precision': 'int', 'min': 0, 'max': 8},\n",
       "   'crs': 'EPSG:32719',\n",
       "   'crs_transform': [10, 0, 199980, 0, -10, 5500000]}],\n",
       " 'properties': {'deminfo': 'SRTM',\n",
       "  'otsu': 0.47,\n",
       "  'ING_ID': 'G718255O411666S',\n",
       "  'system_time_start': 1647009866834,\n",
       "  'system:index': '2_2_20220311T142741_20220311T144201_T19GBQ'}}"
      ]
     },
     "execution_count": 12,
     "metadata": {},
     "output_type": "execute_result"
    }
   ],
   "source": [
    "image.getInfo()"
   ]
  },
  {
   "cell_type": "code",
   "execution_count": 20,
   "id": "c031a842",
   "metadata": {},
   "outputs": [
    {
     "name": "stderr",
     "output_type": "stream",
     "text": [
      "INFO:utils:Results written to exports/elevation.json\n",
      "INFO:utils:Results written to exports/single_class_snow.json\n",
      "INFO:utils:Results written to exports/single_class_sos.json\n",
      "INFO:utils:Results written to exports/ice_area.json\n",
      "INFO:utils:Results written to exports/snow_area.json\n",
      "INFO:utils:Results written to exports/ice_snow_area.json\n",
      "INFO:utils:Results written to exports/ice_area_vec.json\n",
      "INFO:utils:Results written to exports/ice_max.json\n",
      "INFO:utils:Results written to exports/ice_patch_area.json\n",
      "INFO:utils:Results written to exports/ice_patch_ratio.json\n",
      "INFO:utils:Results written to exports/snow_ice_image.json\n",
      "INFO:utils:Results written to exports/touching_zone.json\n"
     ]
    }
   ],
   "source": [
    "sla = extract_sla_patch(image)"
   ]
  },
  {
   "cell_type": "markdown",
   "id": "04b0a149",
   "metadata": {},
   "source": [
    "So the intermediate variables have been written to an `exports` folder in the `notebooks` directory.\n",
    "You can open it directly or inspect it like this..."
   ]
  },
  {
   "cell_type": "code",
   "execution_count": 27,
   "id": "8a51a71f",
   "metadata": {},
   "outputs": [],
   "source": [
    "import json\n",
    "\n",
    "with open('exports/elevation.json') as f:\n",
    "    elevation = json.load(f)"
   ]
  },
  {
   "cell_type": "code",
   "execution_count": 28,
   "id": "4a3ce695",
   "metadata": {},
   "outputs": [
    {
     "data": {
      "text/plain": [
       "{'type': 'Image',\n",
       " 'bands': [{'id': 'AVE_DSM',\n",
       "   'data_type': {'type': 'PixelType',\n",
       "    'precision': 'int',\n",
       "    'min': -32768,\n",
       "    'max': 32767},\n",
       "   'dimensions': [1296001, 417601],\n",
       "   'crs': 'EPSG:4326',\n",
       "   'crs_transform': [0.0002777777777777778,\n",
       "    0,\n",
       "    -180.0001388888889,\n",
       "    0,\n",
       "    -0.0002777777777777778,\n",
       "    60.00013888888889]}],\n",
       " 'id': 'USGS/SRTMGL1_003',\n",
       " 'version': 1641990767055141,\n",
       " 'properties': {'system:visualization_0_min': '0.0',\n",
       "  'type_name': 'Image',\n",
       "  'keywords': ['dem',\n",
       "   'elevation',\n",
       "   'geophysical',\n",
       "   'nasa',\n",
       "   'srtm',\n",
       "   'topography',\n",
       "   'usgs'],\n",
       "  'thumb': 'https://mw1.google.com/ges/dd/images/SRTM90_V4_thumb.png',\n",
       "  'description': '<p>The Shuttle Radar Topography Mission (SRTM, see <a href=\"https://onlinelibrary.wiley.com/doi/10.1029/2005RG000183/full\">Farr\\net al. 2007</a>)\\ndigital elevation data is an international research effort that\\nobtained digital elevation models on a near-global scale. This\\nSRTM V3 product (SRTM Plus) is provided by NASA JPL\\nat a resolution of 1 arc-second (approximately 30m).</p><p>This dataset has undergone a void-filling process using open-source data\\n(ASTER GDEM2, GMTED2010, and NED), as opposed to other versions that\\ncontain voids or have been void-filled with commercial sources.\\nFor more information on the different versions see the\\n<a href=\"https://lpdaac.usgs.gov/documents/13/SRTM_Quick_Guide.pdf\">SRTM Quick Guide</a>.</p><p>Documentation:</p><ul><li><p><a href=\"https://lpdaac.usgs.gov/documents/179/SRTM_User_Guide_V3.pdf\">User&#39;s Guide</a></p></li><li><p><a href=\"https://lpdaac.usgs.gov/documents/13/SRTM_Quick_Guide.pdf\">General Documentation</a></p></li><li><p><a href=\"https://doi.org/10.1029/2005RG000183\">Algorithm Theoretical Basis Document (ATBD)</a></p></li></ul><p><b>Provider: <a href=\"https://cmr.earthdata.nasa.gov/search/concepts/C1000000240-LPDAAC_ECS.html\">NASA / USGS / JPL-Caltech</a></b><br><p><b>Bands</b><table class=\"eecat\"><tr><th scope=\"col\">Name</th><th scope=\"col\">Description</th></tr><tr><td>elevation</td><td><p>Elevation</p></td></tr></table><p><b>Terms of Use</b><br><p>Unless otherwise noted, images and video on JPL public\\nweb sites (public sites ending with a jpl.nasa.gov address) may\\nbe used for any purpose without prior permission. For more information\\nand exceptions visit the <a href=\"https://www.jpl.nasa.gov/imagepolicy/\">JPL Image Use Policy site</a>.</p><p><b>Suggested citation(s)</b><ul><li><p>Farr, T.G., Rosen, P.A., Caro, E., Crippen, R., Duren, R., Hensley,\\nS., Kobrick, M., Paller, M., Rodriguez, E., Roth, L., Seal, D.,\\nShaffer, S., Shimada, J., Umland, J., Werner, M., Oskin, M., Burbank,\\nD., and Alsdorf, D.E., 2007, The shuttle radar topography mission:\\nReviews of Geophysics, v. 45, no. 2, RG2004, at\\n<a href=\"https://doi.org/10.1029/2005RG000183\">https://doi.org/10.1029/2005RG000183</a>.</p></li></ul><style>\\n  table.eecat {\\n  border: 1px solid black;\\n  border-collapse: collapse;\\n  font-size: 13px;\\n  }\\n  table.eecat td, tr, th {\\n  text-align: left; vertical-align: top;\\n  border: 1px solid gray; padding: 3px;\\n  }\\n  td.nobreak { white-space: nowrap; }\\n</style>',\n",
       "  'source_tags': ['nasa', 'usgs'],\n",
       "  'visualization_0_max': '6000.0',\n",
       "  'title': 'NASA SRTM Digital Elevation 30m',\n",
       "  'product_tags': ['srtm', 'elevation', 'topography', 'dem', 'geophysical'],\n",
       "  'provider': 'NASA / USGS / JPL-Caltech',\n",
       "  'visualization_0_min': '0.0',\n",
       "  'visualization_0_name': 'Elevation',\n",
       "  'date_range': [950227200000, 951177600000],\n",
       "  'system:visualization_0_gamma': '1.6',\n",
       "  'period': 0,\n",
       "  'system:visualization_0_bands': 'elevation',\n",
       "  'provider_url': 'https://cmr.earthdata.nasa.gov/search/concepts/C1000000240-LPDAAC_ECS.html',\n",
       "  'visualization_0_gamma': '1.6',\n",
       "  'sample': 'https://mw1.google.com/ges/dd/images/SRTM90_V4_sample.png',\n",
       "  'tags': ['dem',\n",
       "   'elevation',\n",
       "   'geophysical',\n",
       "   'nasa',\n",
       "   'srtm',\n",
       "   'topography',\n",
       "   'usgs'],\n",
       "  'system:visualization_0_max': '6000.0',\n",
       "  'system:visualization_0_name': 'Elevation',\n",
       "  'system:asset_size': 132792638252,\n",
       "  'visualization_0_bands': 'elevation'}}"
      ]
     },
     "execution_count": 28,
     "metadata": {},
     "output_type": "execute_result"
    }
   ],
   "source": [
    "elevation"
   ]
  },
  {
   "cell_type": "markdown",
   "id": "04b95afc",
   "metadata": {},
   "source": [
    "Final SLA looks like this..."
   ]
  },
  {
   "cell_type": "code",
   "execution_count": 24,
   "id": "1e0625de",
   "metadata": {},
   "outputs": [
    {
     "data": {
      "text/plain": [
       "{'type': 'Feature',\n",
       " 'geometry': None,\n",
       " 'properties': {'Considered Area for MP-SLA Extraction': 0,\n",
       "  'ID_Glacier': 'G718255O411666S',\n",
       "  'Ratio Area v/o Snow or Ice': 1,\n",
       "  'Snow Cover Ratio': 0,\n",
       "  'date_MSxlsx': 44631.61418981482,\n",
       "  'ice_area': 0,\n",
       "  'otsu': 0.47,\n",
       "  'system:time_start': 1647009866834,\n",
       "  'total_area': 0}}"
      ]
     },
     "execution_count": 24,
     "metadata": {},
     "output_type": "execute_result"
    }
   ],
   "source": [
    "sla.getInfo()"
   ]
  },
  {
   "cell_type": "code",
   "execution_count": 23,
   "id": "57bf8c7f",
   "metadata": {},
   "outputs": [],
   "source": [
    "# Map = geemap.Map(center=[40,-100], zoom=10)\n",
    "# Map.addLayer(sla)\n",
    "# Map.centerObject(sla, zoom=10)\n",
    "# Map"
   ]
  },
  {
   "cell_type": "markdown",
   "id": "26954914",
   "metadata": {},
   "source": [
    "### The End"
   ]
  }
 ],
 "metadata": {
  "kernelspec": {
   "display_name": "Python 3 (ipykernel)",
   "language": "python",
   "name": "python3"
  },
  "language_info": {
   "codemirror_mode": {
    "name": "ipython",
    "version": 3
   },
   "file_extension": ".py",
   "mimetype": "text/x-python",
   "name": "python",
   "nbconvert_exporter": "python",
   "pygments_lexer": "ipython3",
   "version": "3.9.2"
  },
  "toc": {
   "base_numbering": 1,
   "nav_menu": {},
   "number_sections": true,
   "sideBar": true,
   "skip_h1_title": false,
   "title_cell": "Table of Contents",
   "title_sidebar": "Contents",
   "toc_cell": false,
   "toc_position": {},
   "toc_section_display": true,
   "toc_window_display": false
  }
 },
 "nbformat": 4,
 "nbformat_minor": 5
}
