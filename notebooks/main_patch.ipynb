{
 "cells": [
  {
   "cell_type": "code",
   "execution_count": 1,
   "id": "276ad903",
   "metadata": {},
   "outputs": [
    {
     "data": {
      "text/html": [
       "<style>.container { width:100% !important; }</style>"
      ],
      "text/plain": [
       "<IPython.core.display.HTML object>"
      ]
     },
     "metadata": {},
     "output_type": "display_data"
    }
   ],
   "source": [
    "from IPython.display import display, HTML\n",
    "display(HTML(\"<style>.container { width:100% !important; }</style>\"))"
   ]
  },
  {
   "cell_type": "code",
   "execution_count": 6,
   "id": "1c871b5f",
   "metadata": {},
   "outputs": [],
   "source": [
    "import ee\n",
    "import geemap\n",
    "\n",
    "\n",
    "ee.Initialize()"
   ]
  },
  {
   "cell_type": "code",
   "execution_count": 7,
   "id": "48bc34b8",
   "metadata": {},
   "outputs": [],
   "source": [
    "import sys\n",
    "sys.path.append('../')"
   ]
  },
  {
   "cell_type": "code",
   "execution_count": 17,
   "id": "65a6cd64",
   "metadata": {},
   "outputs": [],
   "source": [
    "from sla.prep import PreProcessor\n",
    "from sla.cloud_shadow_mask import add_cloud_shadow\n",
    "from sla.classifier import decision_tree\n",
    "from sla.hill_shadow import add_hill_shadow\n"
   ]
  },
  {
   "cell_type": "code",
   "execution_count": 18,
   "id": "319996bc",
   "metadata": {},
   "outputs": [
    {
     "name": "stdout",
     "output_type": "stream",
     "text": [
      "processing cloud shadow mask...\n",
      "processing hill shadow...\n",
      "initiating classifier...\n"
     ]
    }
   ],
   "source": [
    "ing_id = \"G718255O411666S\"\n",
    "start_year = ee.Number(2022)\n",
    "end_year = ee.Number(2022)\n",
    "doy_start = ee.Number(50)\n",
    "doy_end = ee.Number(200)\n",
    "cloudiness = ee.Number(50)\n",
    "coverage = 50\n",
    "hsboolean = 0\n",
    "hs_start = ee.Number(50)\n",
    "hs_end = ee.Number(200)\n",
    "dem = \"SRTM\"\n",
    "\n",
    "preprocessor = PreProcessor(\n",
    "    ing_id=ing_id,\n",
    "    start_year=start_year,\n",
    "    end_year=end_year,\n",
    "    doy_start=doy_start,\n",
    "    doy_end=doy_end,\n",
    "    cloudiness=cloudiness,\n",
    "    coverage=coverage,\n",
    "    hsboolean=hsboolean,\n",
    "    dem=dem,\n",
    ")\n",
    "\n",
    "preprocessed = preprocessor.execute()\n",
    "\n",
    "print(\"processing cloud shadow mask...\")\n",
    "preprocessed = preprocessed.map(add_cloud_shadow)\n",
    "\n",
    "print(\"processing hill shadow...\")\n",
    "preprocessed = add_hill_shadow(\n",
    "        image_collection=preprocessed, hs_start=hs_start, hs_end=hs_end\n",
    "    )\n",
    "\n",
    "print(\"initiating classifier...\")\n",
    "map_collection = preprocessed.map(decision_tree)"
   ]
  },
  {
   "cell_type": "code",
   "execution_count": 21,
   "id": "2ea7d9db",
   "metadata": {},
   "outputs": [],
   "source": [
    "image = map_collection.first()"
   ]
  },
  {
   "cell_type": "code",
   "execution_count": 23,
   "id": "b65921d2-d537-4ab1-a496-482446518213",
   "metadata": {},
   "outputs": [
    {
     "data": {
      "text/plain": [
       "{'type': 'Image',\n",
       " 'bands': [{'id': 'classification',\n",
       "   'data_type': {'type': 'PixelType', 'precision': 'int', 'min': 0, 'max': 8},\n",
       "   'crs': 'EPSG:32719',\n",
       "   'crs_transform': [10, 0, 199980, 0, -10, 5500000]}],\n",
       " 'properties': {'deminfo': 'SRTM',\n",
       "  'otsu': 0.47,\n",
       "  'ING_ID': 'G718255O411666S',\n",
       "  'system_time_start': 1647009866834,\n",
       "  'system:index': '2_2_20220311T142741_20220311T144201_T19GBQ'}}"
      ]
     },
     "execution_count": 23,
     "metadata": {},
     "output_type": "execute_result"
    }
   ],
   "source": [
    "image.getInfo()"
   ]
  },
  {
   "cell_type": "code",
   "execution_count": 24,
   "id": "57bf8c7f",
   "metadata": {},
   "outputs": [
    {
     "data": {
      "application/vnd.jupyter.widget-view+json": {
       "model_id": "b871b4540199488e8e08623013c4a81b",
       "version_major": 2,
       "version_minor": 0
      },
      "text/plain": [
       "Map(center=[-41.16634439383657, -71.82854320247421], controls=(WidgetControl(options=['position', 'transparent…"
      ]
     },
     "execution_count": 24,
     "metadata": {},
     "output_type": "execute_result"
    }
   ],
   "source": [
    "Map = geemap.Map(center=[40,-100], zoom=10)\n",
    "Map.addLayer(image)\n",
    "Map.centerObject(ee_obj, zoom=10)\n",
    "Map"
   ]
  },
  {
   "cell_type": "code",
   "execution_count": null,
   "id": "b87cf8da-9c2c-4bc6-b5f7-e3ee432caabf",
   "metadata": {},
   "outputs": [],
   "source": []
  }
 ],
 "metadata": {
  "kernelspec": {
   "display_name": "Python 3 (ipykernel)",
   "language": "python",
   "name": "python3"
  },
  "language_info": {
   "codemirror_mode": {
    "name": "ipython",
    "version": 3
   },
   "file_extension": ".py",
   "mimetype": "text/x-python",
   "name": "python",
   "nbconvert_exporter": "python",
   "pygments_lexer": "ipython3",
   "version": "3.9.2"
  },
  "toc": {
   "base_numbering": 1,
   "nav_menu": {},
   "number_sections": true,
   "sideBar": true,
   "skip_h1_title": false,
   "title_cell": "Table of Contents",
   "title_sidebar": "Contents",
   "toc_cell": false,
   "toc_position": {},
   "toc_section_display": true,
   "toc_window_display": false
  }
 },
 "nbformat": 4,
 "nbformat_minor": 5
}
