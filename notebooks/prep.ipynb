{
 "cells": [
  {
   "cell_type": "code",
   "execution_count": 1,
   "id": "276ad903",
   "metadata": {},
   "outputs": [
    {
     "data": {
      "text/html": [
       "<style>.container { width:100% !important; }</style>"
      ],
      "text/plain": [
       "<IPython.core.display.HTML object>"
      ]
     },
     "metadata": {},
     "output_type": "display_data"
    }
   ],
   "source": [
    "from IPython.display import display, HTML\n",
    "display(HTML(\"<style>.container { width:100% !important; }</style>\"))"
   ]
  },
  {
   "cell_type": "code",
   "execution_count": 2,
   "id": "1c871b5f",
   "metadata": {},
   "outputs": [],
   "source": [
    "import ee\n",
    "import geemap"
   ]
  },
  {
   "cell_type": "code",
   "execution_count": 3,
   "id": "48bc34b8",
   "metadata": {},
   "outputs": [],
   "source": [
    "import sys\n",
    "sys.path.append('../')"
   ]
  },
  {
   "cell_type": "code",
   "execution_count": 4,
   "id": "65a6cd64",
   "metadata": {},
   "outputs": [],
   "source": [
    "from prep import PreProcessor"
   ]
  },
  {
   "cell_type": "code",
   "execution_count": 5,
   "id": "319996bc",
   "metadata": {},
   "outputs": [],
   "source": [
    "ing_id = \"G718255O411666S\"\n",
    "start_year = ee.Number(2022)\n",
    "end_year = ee.Number(2022)\n",
    "doy_start = ee.Number(50)\n",
    "doy_end = ee.Number(200)\n",
    "cloudiness = ee.Number(50)\n",
    "coverage = 50\n",
    "hsboolean = 0\n",
    "dem = \"SRTM\"\n",
    "\n",
    "obj = PreProcessor(\n",
    "    ing_id=ing_id,\n",
    "    start_year=start_year,\n",
    "    end_year=end_year,\n",
    "    doy_start=doy_start,\n",
    "    doy_end=doy_end,\n",
    "    cloudiness=cloudiness,\n",
    "    coverage=coverage,\n",
    "    hsboolean=hsboolean,\n",
    "    dem=dem,\n",
    ")"
   ]
  },
  {
   "cell_type": "code",
   "execution_count": 6,
   "id": "2ea7d9db",
   "metadata": {},
   "outputs": [],
   "source": [
    "ee_obj = obj.execute()"
   ]
  },
  {
   "cell_type": "code",
   "execution_count": 7,
   "id": "57bf8c7f",
   "metadata": {},
   "outputs": [
    {
     "data": {
      "application/vnd.jupyter.widget-view+json": {
       "model_id": "9f37a98b87a544688210e892802919d9",
       "version_major": 2,
       "version_minor": 0
      },
      "text/plain": [
       "Map(center=[-41.16634439383657, -71.82854320247421], controls=(WidgetControl(options=['position', 'transparent…"
      ]
     },
     "metadata": {},
     "output_type": "display_data"
    }
   ],
   "source": [
    "Map = geemap.Map(center=[40,-100], zoom=4)\n",
    "Map.addLayer(ee_obj)\n",
    "Map.centerObject(ee_obj, zoom=4)\n",
    "Map"
   ]
  }
 ],
 "metadata": {
  "kernelspec": {
   "display_name": "Python 3 (ipykernel)",
   "language": "python",
   "name": "python3"
  },
  "language_info": {
   "codemirror_mode": {
    "name": "ipython",
    "version": 3
   },
   "file_extension": ".py",
   "mimetype": "text/x-python",
   "name": "python",
   "nbconvert_exporter": "python",
   "pygments_lexer": "ipython3",
   "version": "3.9.2"
  },
  "toc": {
   "base_numbering": 1,
   "nav_menu": {},
   "number_sections": true,
   "sideBar": true,
   "skip_h1_title": false,
   "title_cell": "Table of Contents",
   "title_sidebar": "Contents",
   "toc_cell": false,
   "toc_position": {},
   "toc_section_display": true,
   "toc_window_display": false
  }
 },
 "nbformat": 4,
 "nbformat_minor": 5
}
