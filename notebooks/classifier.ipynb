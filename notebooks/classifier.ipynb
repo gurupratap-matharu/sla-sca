{
 "cells": [
  {
   "cell_type": "code",
   "execution_count": 1,
   "id": "276ad903",
   "metadata": {},
   "outputs": [
    {
     "data": {
      "text/html": [
       "<style>.container { width:100% !important; }</style>"
      ],
      "text/plain": [
       "<IPython.core.display.HTML object>"
      ]
     },
     "metadata": {},
     "output_type": "display_data"
    }
   ],
   "source": [
    "from IPython.display import display, HTML\n",
    "display(HTML(\"<style>.container { width:100% !important; }</style>\"))"
   ]
  },
  {
   "cell_type": "code",
   "execution_count": 2,
   "id": "1c871b5f",
   "metadata": {},
   "outputs": [],
   "source": [
    "import ee\n",
    "import geemap\n",
    "\n",
    "ee.Initialize()"
   ]
  },
  {
   "cell_type": "code",
   "execution_count": 3,
   "id": "48bc34b8",
   "metadata": {},
   "outputs": [],
   "source": [
    "import sys\n",
    "sys.path.append('../')"
   ]
  },
  {
   "cell_type": "code",
   "execution_count": 4,
   "id": "65a6cd64",
   "metadata": {},
   "outputs": [],
   "source": [
    "from sla.prep import PreProcessor\n",
    "from sla.classifier import decision_tree\n",
    "from sla.cloud_shadow_mask import add_cloud_shadow\n",
    "from sla.hill_shadow import add_hill_shadow"
   ]
  },
  {
   "cell_type": "code",
   "execution_count": 5,
   "id": "319996bc",
   "metadata": {},
   "outputs": [],
   "source": [
    "ing_id = \"G718255O411666S\"\n",
    "start_year = ee.Number(2022)\n",
    "end_year = ee.Number(2022)\n",
    "doy_start = ee.Number(50)\n",
    "doy_end = ee.Number(200)\n",
    "cloudiness = ee.Number(50)\n",
    "coverage = 50\n",
    "hsboolean = 0\n",
    "dem = \"SRTM\"\n",
    "hs_start = ee.Number(50)\n",
    "hs_end = ee.Number(200)"
   ]
  },
  {
   "cell_type": "code",
   "execution_count": 6,
   "id": "681a240c",
   "metadata": {},
   "outputs": [],
   "source": [
    "preprocessor = PreProcessor(\n",
    "    ing_id=ing_id,\n",
    "    start_year=start_year,\n",
    "    end_year=end_year,\n",
    "    doy_start=doy_start,\n",
    "    doy_end=doy_end,\n",
    "    cloudiness=cloudiness,\n",
    "    coverage=coverage,\n",
    "    hsboolean=hsboolean,\n",
    "    dem=dem,\n",
    ")"
   ]
  },
  {
   "cell_type": "code",
   "execution_count": 7,
   "id": "2ea7d9db",
   "metadata": {},
   "outputs": [],
   "source": [
    "preprocessed = preprocessor.execute()\n",
    "\n",
    "cloud_shadow_collection = preprocessed.map(add_cloud_shadow)\n",
    "\n",
    "hill_shadow_collection = add_hill_shadow(\n",
    "        image_collection=cloud_shadow_collection, hs_start=hs_start, hs_end=hs_end\n",
    "    )\n",
    "classified_collection = hill_shadow_collection.map(decision_tree)"
   ]
  },
  {
   "cell_type": "markdown",
   "id": "221b3cbd",
   "metadata": {},
   "source": [
    "### Export image collection to local"
   ]
  },
  {
   "cell_type": "code",
   "execution_count": null,
   "id": "b67b4f40",
   "metadata": {},
   "outputs": [
    {
     "name": "stdout",
     "output_type": "stream",
     "text": [
      "Total number of images: 26\n",
      "\n",
      "Exporting 1/26: 2_2_20220311T142741_20220311T144201_T19GBQ.tif\n",
      "Generating URL ...\n",
      "An error occurred while downloading.\n",
      "Image.clipToBoundsAndScale: The geometry for image clipping must be bounded.\n",
      "\n",
      "\n",
      "Exporting 2/26: 2_2_20220311T142741_20220311T144201_T18GYV.tif\n",
      "Generating URL ...\n",
      "An error occurred while downloading.\n",
      "Image.clipToBoundsAndScale: The geometry for image clipping must be bounded.\n",
      "\n",
      "\n",
      "Exporting 3/26: 2_2_20220324T143731_20220324T145300_T19GBQ.tif\n",
      "Generating URL ...\n",
      "An error occurred while downloading.\n",
      "Image.clipToBoundsAndScale: The geometry for image clipping must be bounded.\n",
      "\n",
      "\n",
      "Exporting 4/26: 2_2_20220324T143731_20220324T145300_T18GYV.tif\n",
      "Generating URL ...\n",
      "An error occurred while downloading.\n",
      "Image.clipToBoundsAndScale: The geometry for image clipping must be bounded.\n",
      "\n",
      "\n"
     ]
    }
   ],
   "source": [
    "geemap.ee_export_image_collection(classified_collection, '../exports/classifier/', scale=30, crs=\"EPSG:32719\", region=None, file_per_band=False)"
   ]
  },
  {
   "cell_type": "code",
   "execution_count": 18,
   "id": "59046c3c",
   "metadata": {},
   "outputs": [
    {
     "data": {
      "text/plain": [
       "26"
      ]
     },
     "execution_count": 18,
     "metadata": {},
     "output_type": "execute_result"
    }
   ],
   "source": [
    "hill_shadow_collection.size().getInfo()"
   ]
  },
  {
   "cell_type": "code",
   "execution_count": null,
   "id": "7bd46580",
   "metadata": {},
   "outputs": [],
   "source": []
  }
 ],
 "metadata": {
  "kernelspec": {
   "display_name": "Python 3 (ipykernel)",
   "language": "python",
   "name": "python3"
  },
  "language_info": {
   "codemirror_mode": {
    "name": "ipython",
    "version": 3
   },
   "file_extension": ".py",
   "mimetype": "text/x-python",
   "name": "python",
   "nbconvert_exporter": "python",
   "pygments_lexer": "ipython3",
   "version": "3.9.2"
  },
  "toc": {
   "base_numbering": 1,
   "nav_menu": {},
   "number_sections": true,
   "sideBar": true,
   "skip_h1_title": false,
   "title_cell": "Table of Contents",
   "title_sidebar": "Contents",
   "toc_cell": false,
   "toc_position": {},
   "toc_section_display": true,
   "toc_window_display": false
  }
 },
 "nbformat": 4,
 "nbformat_minor": 5
}
