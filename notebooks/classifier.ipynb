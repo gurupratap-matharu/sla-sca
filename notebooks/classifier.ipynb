{
 "cells": [
  {
   "cell_type": "code",
   "execution_count": 1,
   "id": "276ad903",
   "metadata": {},
   "outputs": [
    {
     "data": {
      "text/html": [
       "<style>.container { width:100% !important; }</style>"
      ],
      "text/plain": [
       "<IPython.core.display.HTML object>"
      ]
     },
     "metadata": {},
     "output_type": "display_data"
    }
   ],
   "source": [
    "from IPython.display import display, HTML\n",
    "display(HTML(\"<style>.container { width:100% !important; }</style>\"))"
   ]
  },
  {
   "cell_type": "code",
   "execution_count": 2,
   "id": "1c871b5f",
   "metadata": {},
   "outputs": [],
   "source": [
    "import ee\n",
    "import geemap\n",
    "\n",
    "ee.Initialize()"
   ]
  },
  {
   "cell_type": "code",
   "execution_count": 3,
   "id": "48bc34b8",
   "metadata": {},
   "outputs": [],
   "source": [
    "import sys\n",
    "sys.path.append('../')"
   ]
  },
  {
   "cell_type": "code",
   "execution_count": 12,
   "id": "65a6cd64",
   "metadata": {},
   "outputs": [],
   "source": [
    "from sla.prep import PreProcessor\n",
    "from sla.classifier import decision_tree\n",
    "from sla.cloud_shadow_mask import add_cloud_shadow\n",
    "from sla.hill_shadow import add_hill_shadow\n",
    "\n",
    "from sla.settings import ING"
   ]
  },
  {
   "cell_type": "code",
   "execution_count": 5,
   "id": "319996bc",
   "metadata": {},
   "outputs": [],
   "source": [
    "ing_id = \"G718255O411666S\"\n",
    "start_year = ee.Number(2022)\n",
    "end_year = ee.Number(2022)\n",
    "doy_start = ee.Number(50)\n",
    "doy_end = ee.Number(200)\n",
    "cloudiness = ee.Number(50)\n",
    "coverage = 50\n",
    "hsboolean = 0\n",
    "dem = \"SRTM\"\n",
    "hs_start = ee.Number(50)\n",
    "hs_end = ee.Number(200)"
   ]
  },
  {
   "cell_type": "code",
   "execution_count": 6,
   "id": "681a240c",
   "metadata": {},
   "outputs": [],
   "source": [
    "preprocessor = PreProcessor(\n",
    "    ing_id=ing_id,\n",
    "    start_year=start_year,\n",
    "    end_year=end_year,\n",
    "    doy_start=doy_start,\n",
    "    doy_end=doy_end,\n",
    "    cloudiness=cloudiness,\n",
    "    coverage=coverage,\n",
    "    hsboolean=hsboolean,\n",
    "    dem=dem,\n",
    ")"
   ]
  },
  {
   "cell_type": "code",
   "execution_count": 7,
   "id": "2ea7d9db",
   "metadata": {},
   "outputs": [],
   "source": [
    "preprocessed = preprocessor.execute()\n",
    "\n",
    "cloud_shadow_collection = preprocessed.map(add_cloud_shadow)\n",
    "\n",
    "hill_shadow_collection = add_hill_shadow(\n",
    "        image_collection=cloud_shadow_collection, hs_start=hs_start, hs_end=hs_end\n",
    "    )\n",
    "classified_collection = hill_shadow_collection.map(decision_tree)"
   ]
  },
  {
   "cell_type": "markdown",
   "id": "221b3cbd",
   "metadata": {},
   "source": [
    "### Export image collection to local"
   ]
  },
  {
   "cell_type": "code",
   "execution_count": null,
   "id": "f848c60d",
   "metadata": {},
   "outputs": [],
   "source": [
    "# task = ee.batch.Export.image.toDrive(image=my_image,  # an ee.Image object.\n",
    "#                                      region=my_geometry,  # an ee.Geometry object.\n",
    "#                                      description='mock_export',\n",
    "#                                      folder='gdrive_folder',\n",
    "#                                      fileNamePrefix='mock_export',\n",
    "#                                      scale=1000,\n",
    "#                                      crs='EPSG:4326')"
   ]
  },
  {
   "cell_type": "code",
   "execution_count": 10,
   "id": "24f13bf8",
   "metadata": {},
   "outputs": [
    {
     "data": {
      "text/plain": [
       "26"
      ]
     },
     "execution_count": 10,
     "metadata": {},
     "output_type": "execute_result"
    }
   ],
   "source": [
    "classified_collection.size().getInfo()"
   ]
  },
  {
   "cell_type": "code",
   "execution_count": 21,
   "id": "81a68ae1",
   "metadata": {},
   "outputs": [],
   "source": [
    "geometry = ING.filterMetadata(\"ID_local\", \"equals\", ing_id)\n",
    "geometry_raw = geometry.geometry()\n",
    "\n",
    "def clip(img):\n",
    "    return img.clip(geometry_raw)"
   ]
  },
  {
   "cell_type": "code",
   "execution_count": 22,
   "id": "a82fa887",
   "metadata": {},
   "outputs": [],
   "source": [
    "coll = classified_collection.map(clip)"
   ]
  },
  {
   "cell_type": "code",
   "execution_count": 23,
   "id": "34ced1f0",
   "metadata": {},
   "outputs": [],
   "source": [
    "img = coll.first()"
   ]
  },
  {
   "cell_type": "code",
   "execution_count": 25,
   "id": "2d86d726",
   "metadata": {},
   "outputs": [
    {
     "name": "stdout",
     "output_type": "stream",
     "text": [
      "Generating URL ...\n",
      "Downloading data from https://earthengine.googleapis.com/v1alpha/projects/earthengine-legacy/thumbnails/e20c9820e97e522f5e2e14c70335d646-a97bf74885fc279c13f0eea1697b2e53:getPixels\n",
      "Please wait ...\n",
      "Data downloaded to /Users/gurupratap.matharu/Desktop/code/work/glaciers/sla-sca/exports/classifier/demo.tif\n"
     ]
    }
   ],
   "source": [
    "geemap.ee_export_image(img, '../exports/classifier/demo.tif', scale=30, crs='EPSG:32719', region=None, file_per_band=False)"
   ]
  },
  {
   "cell_type": "code",
   "execution_count": null,
   "id": "b67b4f40",
   "metadata": {},
   "outputs": [
    {
     "name": "stdout",
     "output_type": "stream",
     "text": [
      "Total number of images: 26\n",
      "\n",
      "Exporting 1/26: 2_2_20220311T142741_20220311T144201_T19GBQ.tif\n",
      "Generating URL ...\n",
      "Downloading data from https://earthengine.googleapis.com/v1alpha/projects/earthengine-legacy/thumbnails/9b2d02ed05c315b44769c3ad065e3b53-8812eaef93cde19aca280e26863bffea:getPixels\n",
      "Please wait ...\n",
      "Data downloaded to /Users/gurupratap.matharu/Desktop/code/work/glaciers/sla-sca/exports/classifier/2_2_20220311T142741_20220311T144201_T19GBQ.tif\n",
      "\n",
      "\n",
      "Exporting 2/26: 2_2_20220311T142741_20220311T144201_T18GYV.tif\n",
      "Generating URL ...\n",
      "Downloading data from https://earthengine.googleapis.com/v1alpha/projects/earthengine-legacy/thumbnails/cf7d91a22cf438a96e40be2db4bb2df0-ff7cd159d52266ff29f68862c219e67a:getPixels\n",
      "Please wait ...\n",
      "Data downloaded to /Users/gurupratap.matharu/Desktop/code/work/glaciers/sla-sca/exports/classifier/2_2_20220311T142741_20220311T144201_T18GYV.tif\n",
      "\n",
      "\n",
      "Exporting 3/26: 2_2_20220324T143731_20220324T145300_T19GBQ.tif\n",
      "Generating URL ...\n",
      "Downloading data from https://earthengine.googleapis.com/v1alpha/projects/earthengine-legacy/thumbnails/4fb89f73633aa86fb4703d864591ac63-33805cf24ca41cdc17ea3d58f3d295d9:getPixels\n",
      "Please wait ...\n",
      "Data downloaded to /Users/gurupratap.matharu/Desktop/code/work/glaciers/sla-sca/exports/classifier/2_2_20220324T143731_20220324T145300_T19GBQ.tif\n",
      "\n",
      "\n",
      "Exporting 4/26: 2_2_20220324T143731_20220324T145300_T18GYV.tif\n",
      "Generating URL ...\n",
      "Downloading data from https://earthengine.googleapis.com/v1alpha/projects/earthengine-legacy/thumbnails/8ebb7e5749eeb0551a03afd4e4778570-17d1ec4e8b3c4e849aaa30c34758bd99:getPixels\n",
      "Please wait ...\n",
      "Data downloaded to /Users/gurupratap.matharu/Desktop/code/work/glaciers/sla-sca/exports/classifier/2_2_20220324T143731_20220324T145300_T18GYV.tif\n",
      "\n",
      "\n",
      "Exporting 5/26: 2_2_20220326T142729_20220326T143756_T19GBQ.tif\n",
      "Generating URL ...\n",
      "Downloading data from https://earthengine.googleapis.com/v1alpha/projects/earthengine-legacy/thumbnails/70467e83d6549b69f1e7a321f2fc2b66-f57e5e73ccdcc7a3a7db53e04b31c37c:getPixels\n",
      "Please wait ...\n",
      "Data downloaded to /Users/gurupratap.matharu/Desktop/code/work/glaciers/sla-sca/exports/classifier/2_2_20220326T142729_20220326T143756_T19GBQ.tif\n",
      "\n",
      "\n",
      "Exporting 6/26: 2_2_20220326T142729_20220326T143756_T18GYV.tif\n",
      "Generating URL ...\n",
      "Downloading data from https://earthengine.googleapis.com/v1alpha/projects/earthengine-legacy/thumbnails/24edf59fee811c2f55d0d1df806d83e5-8d8e1e4e2d60b7b7ad0367d802861dca:getPixels\n",
      "Please wait ...\n",
      "Data downloaded to /Users/gurupratap.matharu/Desktop/code/work/glaciers/sla-sca/exports/classifier/2_2_20220326T142729_20220326T143756_T18GYV.tif\n",
      "\n",
      "\n",
      "Exporting 7/26: 2_2_20220331T142731_20220331T144119_T19GBQ.tif\n",
      "Generating URL ...\n",
      "Downloading data from https://earthengine.googleapis.com/v1alpha/projects/earthengine-legacy/thumbnails/d7b2ff6ddea5f8be1c7f32ef0583bf8e-e990508ed49ac4676401b1bcde2f1f25:getPixels\n",
      "Please wait ...\n",
      "Data downloaded to /Users/gurupratap.matharu/Desktop/code/work/glaciers/sla-sca/exports/classifier/2_2_20220331T142731_20220331T144119_T19GBQ.tif\n",
      "\n",
      "\n",
      "Exporting 8/26: 2_2_20220331T142731_20220331T144119_T18GYV.tif\n",
      "Generating URL ...\n",
      "Downloading data from https://earthengine.googleapis.com/v1alpha/projects/earthengine-legacy/thumbnails/2bd85a71827b05688ab7d430b8b7869a-ec12eca95d4c62da054c7ca4e435f4e5:getPixels\n",
      "Please wait ...\n",
      "Data downloaded to /Users/gurupratap.matharu/Desktop/code/work/glaciers/sla-sca/exports/classifier/2_2_20220331T142731_20220331T144119_T18GYV.tif\n",
      "\n",
      "\n"
     ]
    }
   ],
   "source": [
    "res = geemap.ee_export_image_collection(coll, \n",
    "                                        '../exports/classifier/', \n",
    "                                        scale=30, \n",
    "                                        crs=\"EPSG:32719\", \n",
    "                                        region=None, \n",
    "                                        file_per_band=False)"
   ]
  },
  {
   "cell_type": "code",
   "execution_count": null,
   "id": "bb330af9",
   "metadata": {},
   "outputs": [],
   "source": []
  }
 ],
 "metadata": {
  "kernelspec": {
   "display_name": "Python 3 (ipykernel)",
   "language": "python",
   "name": "python3"
  },
  "language_info": {
   "codemirror_mode": {
    "name": "ipython",
    "version": 3
   },
   "file_extension": ".py",
   "mimetype": "text/x-python",
   "name": "python",
   "nbconvert_exporter": "python",
   "pygments_lexer": "ipython3",
   "version": "3.9.2"
  },
  "toc": {
   "base_numbering": 1,
   "nav_menu": {},
   "number_sections": true,
   "sideBar": true,
   "skip_h1_title": false,
   "title_cell": "Table of Contents",
   "title_sidebar": "Contents",
   "toc_cell": false,
   "toc_position": {},
   "toc_section_display": true,
   "toc_window_display": false
  }
 },
 "nbformat": 4,
 "nbformat_minor": 5
}
